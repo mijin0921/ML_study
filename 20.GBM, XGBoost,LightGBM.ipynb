{
 "cells": [
  {
   "cell_type": "markdown",
   "metadata": {},
   "source": [
    "GBM\n",
    "- GBM은 가중치를 업데이트할 떄 경사 하강법을 이용하는 것이 큰 차이"
   ]
  },
  {
   "cell_type": "markdown",
   "metadata": {},
   "source": [
    "---"
   ]
  },
  {
   "cell_type": "markdown",
   "metadata": {},
   "source": [
    "HAR 실습"
   ]
  },
  {
   "cell_type": "code",
   "execution_count": 1,
   "metadata": {},
   "outputs": [],
   "source": [
    "import pandas as pd\n",
    "\n",
    "url ='https://raw.githubusercontent.com/PinkWink/ML_tutorial/master/dataset/HAR_dataset/features.txt'\n",
    "\n",
    "feature_name_df = pd.read_csv(url, sep='\\s+',header=None, names=['column_index', 'column_name'])\n",
    "feature_name = feature_name_df.iloc[:,1].values.tolist()\n",
    "\n",
    "X_train_url = 'https://raw.githubusercontent.com/PinkWink/ML_tutorial/master/dataset/HAR_dataset/train/X_train.txt'\n",
    "X_test_url = 'https://raw.githubusercontent.com/PinkWink/ML_tutorial/master/dataset/HAR_dataset/test/X_test.txt'\n",
    "\n",
    "X_train = pd.read_csv(X_train_url,sep='\\s+', header=None)\n",
    "X_test = pd.read_csv(X_test_url,sep='\\s+', header=None)\n",
    "\n",
    "X_train.columns = feature_name\n",
    "X_test.columns = feature_name"
   ]
  },
  {
   "cell_type": "code",
   "execution_count": 7,
   "metadata": {},
   "outputs": [],
   "source": [
    "y_train_url = 'https://raw.githubusercontent.com/PinkWink/ML_tutorial/master/dataset/HAR_dataset/train/y_train.txt'\n",
    "y_test_url = 'https://raw.githubusercontent.com/PinkWink/ML_tutorial/master/dataset/HAR_dataset/test/y_test.txt'\n",
    "\n",
    "y_train = pd.read_csv(y_train_url,sep='\\s+', header=None, names=['action'])\n",
    "y_test = pd.read_csv(y_test_url,sep='\\s+', header=None, names=['action'])"
   ]
  },
  {
   "cell_type": "code",
   "execution_count": 16,
   "metadata": {},
   "outputs": [
    {
     "data": {
      "text/plain": [
       "action\n",
       "6    1407\n",
       "5    1374\n",
       "4    1286\n",
       "1    1226\n",
       "2    1073\n",
       "3     986\n",
       "Name: count, dtype: int64"
      ]
     },
     "execution_count": 16,
     "metadata": {},
     "output_type": "execute_result"
    }
   ],
   "source": [
    "y_train['action'].value_counts()"
   ]
  },
  {
   "cell_type": "code",
   "execution_count": 4,
   "metadata": {},
   "outputs": [
    {
     "data": {
      "text/plain": [
       "((7352, 561), (2947, 561))"
      ]
     },
     "execution_count": 4,
     "metadata": {},
     "output_type": "execute_result"
    }
   ],
   "source": [
    "X_train.shape, X_test.shape"
   ]
  },
  {
   "cell_type": "code",
   "execution_count": 6,
   "metadata": {},
   "outputs": [],
   "source": [
    "from sklearn.ensemble import GradientBoostingClassifier\n",
    "from sklearn.metrics import accuracy_score\n",
    "import time\n",
    "import warnings\n",
    "\n",
    "warnings.filterwarnings('ignore')"
   ]
  },
  {
   "cell_type": "code",
   "execution_count": null,
   "metadata": {},
   "outputs": [],
   "source": [
    "from sklearn.model_selection import train_test_split\n",
    "\n",
    "X_test,"
   ]
  },
  {
   "cell_type": "code",
   "execution_count": 8,
   "metadata": {},
   "outputs": [
    {
     "ename": "KeyboardInterrupt",
     "evalue": "",
     "output_type": "error",
     "traceback": [
      "\u001b[1;31m---------------------------------------------------------------------------\u001b[0m",
      "\u001b[1;31mKeyboardInterrupt\u001b[0m                         Traceback (most recent call last)",
      "Cell \u001b[1;32mIn[8], line 3\u001b[0m\n\u001b[0;32m      1\u001b[0m start_time \u001b[38;5;241m=\u001b[39m time\u001b[38;5;241m.\u001b[39mtime()\n\u001b[0;32m      2\u001b[0m gb_clf \u001b[38;5;241m=\u001b[39m GradientBoostingClassifier(random_state\u001b[38;5;241m=\u001b[39m\u001b[38;5;241m13\u001b[39m)\n\u001b[1;32m----> 3\u001b[0m \u001b[43mgb_clf\u001b[49m\u001b[38;5;241;43m.\u001b[39;49m\u001b[43mfit\u001b[49m\u001b[43m(\u001b[49m\u001b[43mX_train\u001b[49m\u001b[43m,\u001b[49m\u001b[43my_train\u001b[49m\u001b[43m)\u001b[49m\n\u001b[0;32m      4\u001b[0m gb_pred \u001b[38;5;241m=\u001b[39m gb_clf\u001b[38;5;241m.\u001b[39mpredict(X_test)\n\u001b[0;32m      6\u001b[0m \u001b[38;5;28mprint\u001b[39m(\u001b[38;5;124m'\u001b[39m\u001b[38;5;124mACC:\u001b[39m\u001b[38;5;124m'\u001b[39m,accuracy_score(y_test,gb_pred))\n",
      "File \u001b[1;32mc:\\Users\\user\\miniconda3\\envs\\ds_study\\lib\\site-packages\\sklearn\\base.py:1151\u001b[0m, in \u001b[0;36m_fit_context.<locals>.decorator.<locals>.wrapper\u001b[1;34m(estimator, *args, **kwargs)\u001b[0m\n\u001b[0;32m   1144\u001b[0m     estimator\u001b[38;5;241m.\u001b[39m_validate_params()\n\u001b[0;32m   1146\u001b[0m \u001b[38;5;28;01mwith\u001b[39;00m config_context(\n\u001b[0;32m   1147\u001b[0m     skip_parameter_validation\u001b[38;5;241m=\u001b[39m(\n\u001b[0;32m   1148\u001b[0m         prefer_skip_nested_validation \u001b[38;5;129;01mor\u001b[39;00m global_skip_validation\n\u001b[0;32m   1149\u001b[0m     )\n\u001b[0;32m   1150\u001b[0m ):\n\u001b[1;32m-> 1151\u001b[0m     \u001b[38;5;28;01mreturn\u001b[39;00m \u001b[43mfit_method\u001b[49m\u001b[43m(\u001b[49m\u001b[43mestimator\u001b[49m\u001b[43m,\u001b[49m\u001b[43m \u001b[49m\u001b[38;5;241;43m*\u001b[39;49m\u001b[43margs\u001b[49m\u001b[43m,\u001b[49m\u001b[43m \u001b[49m\u001b[38;5;241;43m*\u001b[39;49m\u001b[38;5;241;43m*\u001b[39;49m\u001b[43mkwargs\u001b[49m\u001b[43m)\u001b[49m\n",
      "File \u001b[1;32mc:\\Users\\user\\miniconda3\\envs\\ds_study\\lib\\site-packages\\sklearn\\ensemble\\_gb.py:525\u001b[0m, in \u001b[0;36mBaseGradientBoosting.fit\u001b[1;34m(self, X, y, sample_weight, monitor)\u001b[0m\n\u001b[0;32m    522\u001b[0m     \u001b[38;5;28mself\u001b[39m\u001b[38;5;241m.\u001b[39m_resize_state()\n\u001b[0;32m    524\u001b[0m \u001b[38;5;66;03m# fit the boosting stages\u001b[39;00m\n\u001b[1;32m--> 525\u001b[0m n_stages \u001b[38;5;241m=\u001b[39m \u001b[38;5;28;43mself\u001b[39;49m\u001b[38;5;241;43m.\u001b[39;49m\u001b[43m_fit_stages\u001b[49m\u001b[43m(\u001b[49m\n\u001b[0;32m    526\u001b[0m \u001b[43m    \u001b[49m\u001b[43mX\u001b[49m\u001b[43m,\u001b[49m\n\u001b[0;32m    527\u001b[0m \u001b[43m    \u001b[49m\u001b[43my\u001b[49m\u001b[43m,\u001b[49m\n\u001b[0;32m    528\u001b[0m \u001b[43m    \u001b[49m\u001b[43mraw_predictions\u001b[49m\u001b[43m,\u001b[49m\n\u001b[0;32m    529\u001b[0m \u001b[43m    \u001b[49m\u001b[43msample_weight\u001b[49m\u001b[43m,\u001b[49m\n\u001b[0;32m    530\u001b[0m \u001b[43m    \u001b[49m\u001b[38;5;28;43mself\u001b[39;49m\u001b[38;5;241;43m.\u001b[39;49m\u001b[43m_rng\u001b[49m\u001b[43m,\u001b[49m\n\u001b[0;32m    531\u001b[0m \u001b[43m    \u001b[49m\u001b[43mX_val\u001b[49m\u001b[43m,\u001b[49m\n\u001b[0;32m    532\u001b[0m \u001b[43m    \u001b[49m\u001b[43my_val\u001b[49m\u001b[43m,\u001b[49m\n\u001b[0;32m    533\u001b[0m \u001b[43m    \u001b[49m\u001b[43msample_weight_val\u001b[49m\u001b[43m,\u001b[49m\n\u001b[0;32m    534\u001b[0m \u001b[43m    \u001b[49m\u001b[43mbegin_at_stage\u001b[49m\u001b[43m,\u001b[49m\n\u001b[0;32m    535\u001b[0m \u001b[43m    \u001b[49m\u001b[43mmonitor\u001b[49m\u001b[43m,\u001b[49m\n\u001b[0;32m    536\u001b[0m \u001b[43m\u001b[49m\u001b[43m)\u001b[49m\n\u001b[0;32m    538\u001b[0m \u001b[38;5;66;03m# change shape of arrays after fit (early-stopping or additional ests)\u001b[39;00m\n\u001b[0;32m    539\u001b[0m \u001b[38;5;28;01mif\u001b[39;00m n_stages \u001b[38;5;241m!=\u001b[39m \u001b[38;5;28mself\u001b[39m\u001b[38;5;241m.\u001b[39mestimators_\u001b[38;5;241m.\u001b[39mshape[\u001b[38;5;241m0\u001b[39m]:\n",
      "File \u001b[1;32mc:\\Users\\user\\miniconda3\\envs\\ds_study\\lib\\site-packages\\sklearn\\ensemble\\_gb.py:603\u001b[0m, in \u001b[0;36mBaseGradientBoosting._fit_stages\u001b[1;34m(self, X, y, raw_predictions, sample_weight, random_state, X_val, y_val, sample_weight_val, begin_at_stage, monitor)\u001b[0m\n\u001b[0;32m    596\u001b[0m         initial_loss \u001b[38;5;241m=\u001b[39m loss_(\n\u001b[0;32m    597\u001b[0m             y[\u001b[38;5;241m~\u001b[39msample_mask],\n\u001b[0;32m    598\u001b[0m             raw_predictions[\u001b[38;5;241m~\u001b[39msample_mask],\n\u001b[0;32m    599\u001b[0m             sample_weight[\u001b[38;5;241m~\u001b[39msample_mask],\n\u001b[0;32m    600\u001b[0m         )\n\u001b[0;32m    602\u001b[0m \u001b[38;5;66;03m# fit next stage of trees\u001b[39;00m\n\u001b[1;32m--> 603\u001b[0m raw_predictions \u001b[38;5;241m=\u001b[39m \u001b[38;5;28;43mself\u001b[39;49m\u001b[38;5;241;43m.\u001b[39;49m\u001b[43m_fit_stage\u001b[49m\u001b[43m(\u001b[49m\n\u001b[0;32m    604\u001b[0m \u001b[43m    \u001b[49m\u001b[43mi\u001b[49m\u001b[43m,\u001b[49m\n\u001b[0;32m    605\u001b[0m \u001b[43m    \u001b[49m\u001b[43mX\u001b[49m\u001b[43m,\u001b[49m\n\u001b[0;32m    606\u001b[0m \u001b[43m    \u001b[49m\u001b[43my\u001b[49m\u001b[43m,\u001b[49m\n\u001b[0;32m    607\u001b[0m \u001b[43m    \u001b[49m\u001b[43mraw_predictions\u001b[49m\u001b[43m,\u001b[49m\n\u001b[0;32m    608\u001b[0m \u001b[43m    \u001b[49m\u001b[43msample_weight\u001b[49m\u001b[43m,\u001b[49m\n\u001b[0;32m    609\u001b[0m \u001b[43m    \u001b[49m\u001b[43msample_mask\u001b[49m\u001b[43m,\u001b[49m\n\u001b[0;32m    610\u001b[0m \u001b[43m    \u001b[49m\u001b[43mrandom_state\u001b[49m\u001b[43m,\u001b[49m\n\u001b[0;32m    611\u001b[0m \u001b[43m    \u001b[49m\u001b[43mX_csc\u001b[49m\u001b[43m,\u001b[49m\n\u001b[0;32m    612\u001b[0m \u001b[43m    \u001b[49m\u001b[43mX_csr\u001b[49m\u001b[43m,\u001b[49m\n\u001b[0;32m    613\u001b[0m \u001b[43m\u001b[49m\u001b[43m)\u001b[49m\n\u001b[0;32m    615\u001b[0m \u001b[38;5;66;03m# track loss\u001b[39;00m\n\u001b[0;32m    616\u001b[0m \u001b[38;5;28;01mif\u001b[39;00m do_oob:\n",
      "File \u001b[1;32mc:\\Users\\user\\miniconda3\\envs\\ds_study\\lib\\site-packages\\sklearn\\ensemble\\_gb.py:245\u001b[0m, in \u001b[0;36mBaseGradientBoosting._fit_stage\u001b[1;34m(self, i, X, y, raw_predictions, sample_weight, sample_mask, random_state, X_csc, X_csr)\u001b[0m\n\u001b[0;32m    242\u001b[0m     sample_weight \u001b[38;5;241m=\u001b[39m sample_weight \u001b[38;5;241m*\u001b[39m sample_mask\u001b[38;5;241m.\u001b[39mastype(np\u001b[38;5;241m.\u001b[39mfloat64)\n\u001b[0;32m    244\u001b[0m X \u001b[38;5;241m=\u001b[39m X_csr \u001b[38;5;28;01mif\u001b[39;00m X_csr \u001b[38;5;129;01mis\u001b[39;00m \u001b[38;5;129;01mnot\u001b[39;00m \u001b[38;5;28;01mNone\u001b[39;00m \u001b[38;5;28;01melse\u001b[39;00m X\n\u001b[1;32m--> 245\u001b[0m \u001b[43mtree\u001b[49m\u001b[38;5;241;43m.\u001b[39;49m\u001b[43mfit\u001b[49m\u001b[43m(\u001b[49m\u001b[43mX\u001b[49m\u001b[43m,\u001b[49m\u001b[43m \u001b[49m\u001b[43mresidual\u001b[49m\u001b[43m,\u001b[49m\u001b[43m \u001b[49m\u001b[43msample_weight\u001b[49m\u001b[38;5;241;43m=\u001b[39;49m\u001b[43msample_weight\u001b[49m\u001b[43m,\u001b[49m\u001b[43m \u001b[49m\u001b[43mcheck_input\u001b[49m\u001b[38;5;241;43m=\u001b[39;49m\u001b[38;5;28;43;01mFalse\u001b[39;49;00m\u001b[43m)\u001b[49m\n\u001b[0;32m    247\u001b[0m \u001b[38;5;66;03m# update tree leaves\u001b[39;00m\n\u001b[0;32m    248\u001b[0m loss\u001b[38;5;241m.\u001b[39mupdate_terminal_regions(\n\u001b[0;32m    249\u001b[0m     tree\u001b[38;5;241m.\u001b[39mtree_,\n\u001b[0;32m    250\u001b[0m     X,\n\u001b[1;32m   (...)\u001b[0m\n\u001b[0;32m    257\u001b[0m     k\u001b[38;5;241m=\u001b[39mk,\n\u001b[0;32m    258\u001b[0m )\n",
      "File \u001b[1;32mc:\\Users\\user\\miniconda3\\envs\\ds_study\\lib\\site-packages\\sklearn\\base.py:1151\u001b[0m, in \u001b[0;36m_fit_context.<locals>.decorator.<locals>.wrapper\u001b[1;34m(estimator, *args, **kwargs)\u001b[0m\n\u001b[0;32m   1144\u001b[0m     estimator\u001b[38;5;241m.\u001b[39m_validate_params()\n\u001b[0;32m   1146\u001b[0m \u001b[38;5;28;01mwith\u001b[39;00m config_context(\n\u001b[0;32m   1147\u001b[0m     skip_parameter_validation\u001b[38;5;241m=\u001b[39m(\n\u001b[0;32m   1148\u001b[0m         prefer_skip_nested_validation \u001b[38;5;129;01mor\u001b[39;00m global_skip_validation\n\u001b[0;32m   1149\u001b[0m     )\n\u001b[0;32m   1150\u001b[0m ):\n\u001b[1;32m-> 1151\u001b[0m     \u001b[38;5;28;01mreturn\u001b[39;00m \u001b[43mfit_method\u001b[49m\u001b[43m(\u001b[49m\u001b[43mestimator\u001b[49m\u001b[43m,\u001b[49m\u001b[43m \u001b[49m\u001b[38;5;241;43m*\u001b[39;49m\u001b[43margs\u001b[49m\u001b[43m,\u001b[49m\u001b[43m \u001b[49m\u001b[38;5;241;43m*\u001b[39;49m\u001b[38;5;241;43m*\u001b[39;49m\u001b[43mkwargs\u001b[49m\u001b[43m)\u001b[49m\n",
      "File \u001b[1;32mc:\\Users\\user\\miniconda3\\envs\\ds_study\\lib\\site-packages\\sklearn\\tree\\_classes.py:1320\u001b[0m, in \u001b[0;36mDecisionTreeRegressor.fit\u001b[1;34m(self, X, y, sample_weight, check_input)\u001b[0m\n\u001b[0;32m   1290\u001b[0m \u001b[38;5;129m@_fit_context\u001b[39m(prefer_skip_nested_validation\u001b[38;5;241m=\u001b[39m\u001b[38;5;28;01mTrue\u001b[39;00m)\n\u001b[0;32m   1291\u001b[0m \u001b[38;5;28;01mdef\u001b[39;00m \u001b[38;5;21mfit\u001b[39m(\u001b[38;5;28mself\u001b[39m, X, y, sample_weight\u001b[38;5;241m=\u001b[39m\u001b[38;5;28;01mNone\u001b[39;00m, check_input\u001b[38;5;241m=\u001b[39m\u001b[38;5;28;01mTrue\u001b[39;00m):\n\u001b[0;32m   1292\u001b[0m \u001b[38;5;250m    \u001b[39m\u001b[38;5;124;03m\"\"\"Build a decision tree regressor from the training set (X, y).\u001b[39;00m\n\u001b[0;32m   1293\u001b[0m \n\u001b[0;32m   1294\u001b[0m \u001b[38;5;124;03m    Parameters\u001b[39;00m\n\u001b[1;32m   (...)\u001b[0m\n\u001b[0;32m   1317\u001b[0m \u001b[38;5;124;03m        Fitted estimator.\u001b[39;00m\n\u001b[0;32m   1318\u001b[0m \u001b[38;5;124;03m    \"\"\"\u001b[39;00m\n\u001b[1;32m-> 1320\u001b[0m     \u001b[38;5;28;43msuper\u001b[39;49m\u001b[43m(\u001b[49m\u001b[43m)\u001b[49m\u001b[38;5;241;43m.\u001b[39;49m\u001b[43m_fit\u001b[49m\u001b[43m(\u001b[49m\n\u001b[0;32m   1321\u001b[0m \u001b[43m        \u001b[49m\u001b[43mX\u001b[49m\u001b[43m,\u001b[49m\n\u001b[0;32m   1322\u001b[0m \u001b[43m        \u001b[49m\u001b[43my\u001b[49m\u001b[43m,\u001b[49m\n\u001b[0;32m   1323\u001b[0m \u001b[43m        \u001b[49m\u001b[43msample_weight\u001b[49m\u001b[38;5;241;43m=\u001b[39;49m\u001b[43msample_weight\u001b[49m\u001b[43m,\u001b[49m\n\u001b[0;32m   1324\u001b[0m \u001b[43m        \u001b[49m\u001b[43mcheck_input\u001b[49m\u001b[38;5;241;43m=\u001b[39;49m\u001b[43mcheck_input\u001b[49m\u001b[43m,\u001b[49m\n\u001b[0;32m   1325\u001b[0m \u001b[43m    \u001b[49m\u001b[43m)\u001b[49m\n\u001b[0;32m   1326\u001b[0m     \u001b[38;5;28;01mreturn\u001b[39;00m \u001b[38;5;28mself\u001b[39m\n",
      "File \u001b[1;32mc:\\Users\\user\\miniconda3\\envs\\ds_study\\lib\\site-packages\\sklearn\\tree\\_classes.py:443\u001b[0m, in \u001b[0;36mBaseDecisionTree._fit\u001b[1;34m(self, X, y, sample_weight, check_input, missing_values_in_feature_mask)\u001b[0m\n\u001b[0;32m    432\u001b[0m \u001b[38;5;28;01melse\u001b[39;00m:\n\u001b[0;32m    433\u001b[0m     builder \u001b[38;5;241m=\u001b[39m BestFirstTreeBuilder(\n\u001b[0;32m    434\u001b[0m         splitter,\n\u001b[0;32m    435\u001b[0m         min_samples_split,\n\u001b[1;32m   (...)\u001b[0m\n\u001b[0;32m    440\u001b[0m         \u001b[38;5;28mself\u001b[39m\u001b[38;5;241m.\u001b[39mmin_impurity_decrease,\n\u001b[0;32m    441\u001b[0m     )\n\u001b[1;32m--> 443\u001b[0m \u001b[43mbuilder\u001b[49m\u001b[38;5;241;43m.\u001b[39;49m\u001b[43mbuild\u001b[49m\u001b[43m(\u001b[49m\u001b[38;5;28;43mself\u001b[39;49m\u001b[38;5;241;43m.\u001b[39;49m\u001b[43mtree_\u001b[49m\u001b[43m,\u001b[49m\u001b[43m \u001b[49m\u001b[43mX\u001b[49m\u001b[43m,\u001b[49m\u001b[43m \u001b[49m\u001b[43my\u001b[49m\u001b[43m,\u001b[49m\u001b[43m \u001b[49m\u001b[43msample_weight\u001b[49m\u001b[43m,\u001b[49m\u001b[43m \u001b[49m\u001b[43mmissing_values_in_feature_mask\u001b[49m\u001b[43m)\u001b[49m\n\u001b[0;32m    445\u001b[0m \u001b[38;5;28;01mif\u001b[39;00m \u001b[38;5;28mself\u001b[39m\u001b[38;5;241m.\u001b[39mn_outputs_ \u001b[38;5;241m==\u001b[39m \u001b[38;5;241m1\u001b[39m \u001b[38;5;129;01mand\u001b[39;00m is_classifier(\u001b[38;5;28mself\u001b[39m):\n\u001b[0;32m    446\u001b[0m     \u001b[38;5;28mself\u001b[39m\u001b[38;5;241m.\u001b[39mn_classes_ \u001b[38;5;241m=\u001b[39m \u001b[38;5;28mself\u001b[39m\u001b[38;5;241m.\u001b[39mn_classes_[\u001b[38;5;241m0\u001b[39m]\n",
      "\u001b[1;31mKeyboardInterrupt\u001b[0m: "
     ]
    }
   ],
   "source": [
    "start_time = time.time()\n",
    "gb_clf = GradientBoostingClassifier(random_state=13)\n",
    "gb_clf.fit(X_train,y_train)\n",
    "gb_pred = gb_clf.predict(X_test)\n",
    "\n",
    "print('ACC:',accuracy_score(y_test,gb_pred))\n",
    "print('Fit time:',time.time() - start_time())\n",
    "\n",
    "#시간이 오래걸림"
   ]
  },
  {
   "cell_type": "code",
   "execution_count": null,
   "metadata": {},
   "outputs": [],
   "source": [
    "print('ACC:',accuracy_score(y_test,gb_pred))\n",
    "print('Fit time:',time.time() - start_time)"
   ]
  },
  {
   "cell_type": "code",
   "execution_count": null,
   "metadata": {},
   "outputs": [],
   "source": [
    "from sklearn.model_selection import GridSearchCV\n",
    "\n",
    "params = {\n",
    "    'n_setimators' : [100,500],\n",
    "    'learning_rate' : [0.05,0.1]\n",
    "}\n",
    "\n",
    "start_time = time.time()\n",
    "\n",
    "grid = GridSearchCV(gb_clf,param_grid=params, verbose=1,cv=2, n_jobs=-1)\n",
    "grid.fit(X_train,y_train)\n",
    "\n",
    "print('FIt time:',time.time() - start_time)"
   ]
  },
  {
   "cell_type": "markdown",
   "metadata": {},
   "source": [
    "---"
   ]
  },
  {
   "cell_type": "markdown",
   "metadata": {},
   "source": [
    "# XGBoost\n",
    "- GBM 기반의 알고리즘인데, GBM의 느린 속도를 다양한 규제를 통해 해결\n",
    "- 특히 병렬학습이 가능하도록 설계됨"
   ]
  },
  {
   "attachments": {
    "image.png": {
     "image/png": "[encoded data removed]"
    }
   },
   "cell_type": "markdown",
   "metadata": {},
   "source": [
    "![image.png](attachment:image.png)"
   ]
  },
  {
   "cell_type": "code",
   "execution_count": 21,
   "metadata": {},
   "outputs": [],
   "source": [
    "#XGBoost 오류: target 데이터 values들이 0부터 시작하도록 encoding을 해야 돌아간다\n",
    "from sklearn.preprocessing import LabelEncoder\n",
    "\n",
    "le = LabelEncoder()\n",
    "\n",
    "y_train = le.fit_transform(y_train)"
   ]
  },
  {
   "cell_type": "code",
   "execution_count": 23,
   "metadata": {},
   "outputs": [
    {
     "name": "stdout",
     "output_type": "stream",
     "text": [
      "Fit time: 59.144033432006836\n"
     ]
    }
   ],
   "source": [
    "from xgboost import XGBClassifier\n",
    "\n",
    "start_time = time.time()\n",
    "xgb = XGBClassifier(n_estimators=400, learning_rate=0.1, max_depth=3)\n",
    "xgb.fit(X_train.values, y_train) #xgboost는 np.array형식으로 넣어줘야 한다\n",
    "\n",
    "print('Fit time:',time.time() - start_time)\n",
    "\n",
    "#지금 target 데이터 values들이 0부터 시작하도록 encoding을 해야 돌아갈듯"
   ]
  },
  {
   "cell_type": "code",
   "execution_count": 26,
   "metadata": {},
   "outputs": [
    {
     "data": {
      "text/plain": [
       "0.9497794367153037"
      ]
     },
     "execution_count": 26,
     "metadata": {},
     "output_type": "execute_result"
    }
   ],
   "source": [
    "#accuracy 확인할 때는 다시 inverser_transform 해서 확인해야함\n",
    "\n",
    "pred = xgb.predict(X_test.values)\n",
    "pred = le.inverse_transform(pred)\n",
    "accuracy_score(y_test,pred)"
   ]
  },
  {
   "cell_type": "markdown",
   "metadata": {},
   "source": [
    "우선 GBM과 XGBoost는 이 데이터에서는 성능이 비슷한 수치로 나왔다. \n",
    "하지만 XGBoost가 더 빠르다."
   ]
  },
  {
   "cell_type": "markdown",
   "metadata": {},
   "source": [
    "**조기 종료 조건과 검증데이터를 지정할 수 있다**\n",
    "\n",
    "- early_stopping_rounds : 최적화된 성능이 지정한 횟수만큼 나오면 종료해라\n",
    "- eval_set : validation 데이터 직접지정"
   ]
  },
  {
   "cell_type": "code",
   "execution_count": 28,
   "metadata": {},
   "outputs": [
    {
     "name": "stdout",
     "output_type": "stream",
     "text": [
      "[0]\tvalidation_0-mlogloss:1.58912\n",
      "[1]\tvalidation_0-mlogloss:1.43298\n",
      "[2]\tvalidation_0-mlogloss:1.30579\n",
      "[3]\tvalidation_0-mlogloss:1.19398\n",
      "[4]\tvalidation_0-mlogloss:1.10151\n",
      "[5]\tvalidation_0-mlogloss:1.01952\n",
      "[6]\tvalidation_0-mlogloss:0.94821\n",
      "[7]\tvalidation_0-mlogloss:0.88468\n",
      "[8]\tvalidation_0-mlogloss:0.82846\n",
      "[9]\tvalidation_0-mlogloss:0.77660\n",
      "[10]\tvalidation_0-mlogloss:0.73051\n",
      "[11]\tvalidation_0-mlogloss:0.68873\n",
      "[12]\tvalidation_0-mlogloss:0.65163\n",
      "[13]\tvalidation_0-mlogloss:0.61809\n",
      "[14]\tvalidation_0-mlogloss:0.58776\n",
      "[15]\tvalidation_0-mlogloss:0.55936\n",
      "[16]\tvalidation_0-mlogloss:0.53447\n",
      "[17]\tvalidation_0-mlogloss:0.51131\n",
      "[18]\tvalidation_0-mlogloss:0.49076\n",
      "[19]\tvalidation_0-mlogloss:0.47043\n",
      "[20]\tvalidation_0-mlogloss:0.45119\n",
      "[21]\tvalidation_0-mlogloss:0.43441\n",
      "[22]\tvalidation_0-mlogloss:0.41777\n",
      "[23]\tvalidation_0-mlogloss:0.40352\n",
      "[24]\tvalidation_0-mlogloss:0.38949\n",
      "[25]\tvalidation_0-mlogloss:0.37684\n",
      "[26]\tvalidation_0-mlogloss:0.36371\n",
      "[27]\tvalidation_0-mlogloss:0.35286\n",
      "[28]\tvalidation_0-mlogloss:0.34221\n",
      "[29]\tvalidation_0-mlogloss:0.33315\n",
      "[30]\tvalidation_0-mlogloss:0.32387\n",
      "[31]\tvalidation_0-mlogloss:0.31562\n",
      "[32]\tvalidation_0-mlogloss:0.30764\n",
      "[33]\tvalidation_0-mlogloss:0.30095\n",
      "[34]\tvalidation_0-mlogloss:0.29447\n",
      "[35]\tvalidation_0-mlogloss:0.28810\n",
      "[36]\tvalidation_0-mlogloss:0.28179\n",
      "[37]\tvalidation_0-mlogloss:0.27471\n",
      "[38]\tvalidation_0-mlogloss:0.26885\n",
      "[39]\tvalidation_0-mlogloss:0.26238\n",
      "[40]\tvalidation_0-mlogloss:0.25814\n",
      "[41]\tvalidation_0-mlogloss:0.25317\n",
      "[42]\tvalidation_0-mlogloss:0.24820\n",
      "[43]\tvalidation_0-mlogloss:0.24403\n",
      "[44]\tvalidation_0-mlogloss:0.23968\n",
      "[45]\tvalidation_0-mlogloss:0.23583\n",
      "[46]\tvalidation_0-mlogloss:0.23178\n",
      "[47]\tvalidation_0-mlogloss:0.22802\n",
      "[48]\tvalidation_0-mlogloss:0.22398\n",
      "[49]\tvalidation_0-mlogloss:0.22128\n",
      "[50]\tvalidation_0-mlogloss:0.21875\n",
      "[51]\tvalidation_0-mlogloss:0.21577\n",
      "[52]\tvalidation_0-mlogloss:0.21175\n",
      "[53]\tvalidation_0-mlogloss:0.20918\n",
      "[54]\tvalidation_0-mlogloss:0.20701\n",
      "[55]\tvalidation_0-mlogloss:0.20486\n",
      "[56]\tvalidation_0-mlogloss:0.20269\n",
      "[57]\tvalidation_0-mlogloss:0.20019\n",
      "[58]\tvalidation_0-mlogloss:0.19839\n",
      "[59]\tvalidation_0-mlogloss:0.19591\n",
      "[60]\tvalidation_0-mlogloss:0.19375\n",
      "[61]\tvalidation_0-mlogloss:0.19245\n",
      "[62]\tvalidation_0-mlogloss:0.19056\n",
      "[63]\tvalidation_0-mlogloss:0.18857\n",
      "[64]\tvalidation_0-mlogloss:0.18675\n",
      "[65]\tvalidation_0-mlogloss:0.18511\n",
      "[66]\tvalidation_0-mlogloss:0.18284\n",
      "[67]\tvalidation_0-mlogloss:0.18073\n",
      "[68]\tvalidation_0-mlogloss:0.17894\n",
      "[69]\tvalidation_0-mlogloss:0.17747\n",
      "[70]\tvalidation_0-mlogloss:0.17621\n",
      "[71]\tvalidation_0-mlogloss:0.17537\n",
      "[72]\tvalidation_0-mlogloss:0.17396\n",
      "[73]\tvalidation_0-mlogloss:0.17297\n",
      "[74]\tvalidation_0-mlogloss:0.17167\n",
      "[75]\tvalidation_0-mlogloss:0.17020\n",
      "[76]\tvalidation_0-mlogloss:0.16897\n",
      "[77]\tvalidation_0-mlogloss:0.16825\n",
      "[78]\tvalidation_0-mlogloss:0.16745\n",
      "[79]\tvalidation_0-mlogloss:0.16636\n",
      "[80]\tvalidation_0-mlogloss:0.16542\n",
      "[81]\tvalidation_0-mlogloss:0.16447\n",
      "[82]\tvalidation_0-mlogloss:0.16398\n",
      "[83]\tvalidation_0-mlogloss:0.16300\n",
      "[84]\tvalidation_0-mlogloss:0.16255\n",
      "[85]\tvalidation_0-mlogloss:0.16151\n",
      "[86]\tvalidation_0-mlogloss:0.16095\n",
      "[87]\tvalidation_0-mlogloss:0.16032\n",
      "[88]\tvalidation_0-mlogloss:0.15923\n",
      "[89]\tvalidation_0-mlogloss:0.15836\n",
      "[90]\tvalidation_0-mlogloss:0.15757\n",
      "[91]\tvalidation_0-mlogloss:0.15710\n",
      "[92]\tvalidation_0-mlogloss:0.15685\n",
      "[93]\tvalidation_0-mlogloss:0.15590\n",
      "[94]\tvalidation_0-mlogloss:0.15509\n",
      "[95]\tvalidation_0-mlogloss:0.15484\n",
      "[96]\tvalidation_0-mlogloss:0.15388\n",
      "[97]\tvalidation_0-mlogloss:0.15331\n",
      "[98]\tvalidation_0-mlogloss:0.15258\n",
      "[99]\tvalidation_0-mlogloss:0.15198\n",
      "[100]\tvalidation_0-mlogloss:0.15229\n",
      "[101]\tvalidation_0-mlogloss:0.15127\n",
      "[102]\tvalidation_0-mlogloss:0.15137\n",
      "[103]\tvalidation_0-mlogloss:0.15090\n",
      "[104]\tvalidation_0-mlogloss:0.15016\n",
      "[105]\tvalidation_0-mlogloss:0.14957\n",
      "[106]\tvalidation_0-mlogloss:0.14920\n",
      "[107]\tvalidation_0-mlogloss:0.14899\n",
      "[108]\tvalidation_0-mlogloss:0.14856\n",
      "[109]\tvalidation_0-mlogloss:0.14843\n",
      "[110]\tvalidation_0-mlogloss:0.14815\n",
      "[111]\tvalidation_0-mlogloss:0.14784\n",
      "[112]\tvalidation_0-mlogloss:0.14818\n",
      "[113]\tvalidation_0-mlogloss:0.14788\n",
      "[114]\tvalidation_0-mlogloss:0.14825\n",
      "[115]\tvalidation_0-mlogloss:0.14729\n",
      "[116]\tvalidation_0-mlogloss:0.14693\n",
      "[117]\tvalidation_0-mlogloss:0.14664\n",
      "[118]\tvalidation_0-mlogloss:0.14622\n",
      "[119]\tvalidation_0-mlogloss:0.14641\n",
      "[120]\tvalidation_0-mlogloss:0.14643\n",
      "[121]\tvalidation_0-mlogloss:0.14598\n",
      "[122]\tvalidation_0-mlogloss:0.14535\n",
      "[123]\tvalidation_0-mlogloss:0.14407\n",
      "[124]\tvalidation_0-mlogloss:0.14364\n",
      "[125]\tvalidation_0-mlogloss:0.14364\n",
      "[126]\tvalidation_0-mlogloss:0.14307\n",
      "[127]\tvalidation_0-mlogloss:0.14267\n",
      "[128]\tvalidation_0-mlogloss:0.14276\n",
      "[129]\tvalidation_0-mlogloss:0.14264\n",
      "[130]\tvalidation_0-mlogloss:0.14287\n",
      "[131]\tvalidation_0-mlogloss:0.14325\n",
      "[132]\tvalidation_0-mlogloss:0.14305\n",
      "[133]\tvalidation_0-mlogloss:0.14259\n",
      "[134]\tvalidation_0-mlogloss:0.14219\n",
      "[135]\tvalidation_0-mlogloss:0.14200\n",
      "[136]\tvalidation_0-mlogloss:0.14200\n",
      "[137]\tvalidation_0-mlogloss:0.14242\n",
      "[138]\tvalidation_0-mlogloss:0.14172\n",
      "[139]\tvalidation_0-mlogloss:0.14128\n",
      "[140]\tvalidation_0-mlogloss:0.14143\n",
      "[141]\tvalidation_0-mlogloss:0.14140\n",
      "[142]\tvalidation_0-mlogloss:0.14182\n",
      "[143]\tvalidation_0-mlogloss:0.14127\n",
      "[144]\tvalidation_0-mlogloss:0.14087\n",
      "[145]\tvalidation_0-mlogloss:0.14099\n",
      "[146]\tvalidation_0-mlogloss:0.14108\n",
      "[147]\tvalidation_0-mlogloss:0.14132\n",
      "[148]\tvalidation_0-mlogloss:0.14078\n",
      "[149]\tvalidation_0-mlogloss:0.14061\n",
      "[150]\tvalidation_0-mlogloss:0.14058\n",
      "[151]\tvalidation_0-mlogloss:0.14077\n",
      "[152]\tvalidation_0-mlogloss:0.14045\n",
      "[153]\tvalidation_0-mlogloss:0.14010\n",
      "[154]\tvalidation_0-mlogloss:0.13986\n",
      "[155]\tvalidation_0-mlogloss:0.13955\n",
      "[156]\tvalidation_0-mlogloss:0.13962\n",
      "[157]\tvalidation_0-mlogloss:0.13991\n",
      "[158]\tvalidation_0-mlogloss:0.13972\n",
      "[159]\tvalidation_0-mlogloss:0.13952\n",
      "[160]\tvalidation_0-mlogloss:0.13989\n",
      "[161]\tvalidation_0-mlogloss:0.13916\n",
      "[162]\tvalidation_0-mlogloss:0.13862\n",
      "[163]\tvalidation_0-mlogloss:0.13917\n",
      "[164]\tvalidation_0-mlogloss:0.13943\n",
      "[165]\tvalidation_0-mlogloss:0.13968\n",
      "[166]\tvalidation_0-mlogloss:0.13932\n",
      "[167]\tvalidation_0-mlogloss:0.13894\n",
      "[168]\tvalidation_0-mlogloss:0.13891\n",
      "[169]\tvalidation_0-mlogloss:0.13857\n",
      "[170]\tvalidation_0-mlogloss:0.13847\n",
      "[171]\tvalidation_0-mlogloss:0.13797\n",
      "[172]\tvalidation_0-mlogloss:0.13835\n",
      "[173]\tvalidation_0-mlogloss:0.13908\n",
      "[174]\tvalidation_0-mlogloss:0.13887\n",
      "[175]\tvalidation_0-mlogloss:0.13862\n",
      "[176]\tvalidation_0-mlogloss:0.13871\n",
      "[177]\tvalidation_0-mlogloss:0.13867\n",
      "[178]\tvalidation_0-mlogloss:0.13842\n",
      "[179]\tvalidation_0-mlogloss:0.13830\n",
      "[180]\tvalidation_0-mlogloss:0.13833\n",
      "Fit time: 34.35656666755676\n"
     ]
    }
   ],
   "source": [
    "le = LabelEncoder()\n",
    "\n",
    "y_test= le.fit_transform(y_test)\n",
    "evals = [(X_test.values,y_test)]\n",
    "\n",
    "start_time = time.time()\n",
    "xgb = XGBClassifier(n_estimators=400, learning_rate=0.1, max_depth=3)\n",
    "xgb.fit(X_train.values, y_train, early_stopping_rounds=10, eval_set=evals) \n",
    "#early_stopping_rounds : 최적화된 성능이 지정한 횟수만큼 나오면 종료해라\n",
    "#eval_set : validation 데이터 직접지정\n",
    "\n",
    "print('Fit time:',time.time() - start_time)"
   ]
  },
  {
   "cell_type": "code",
   "execution_count": 31,
   "metadata": {},
   "outputs": [
    {
     "data": {
      "text/plain": [
       "0.9453681710213777"
      ]
     },
     "execution_count": 31,
     "metadata": {},
     "output_type": "execute_result"
    }
   ],
   "source": [
    "pred = xgb.predict(X_test.values)\n",
    "pred = le.inverse_transform(pred)\n",
    "y_test= le.inverse_transform(y_test)\n",
    "\n",
    "accuracy_score(y_test,pred)"
   ]
  },
  {
   "cell_type": "markdown",
   "metadata": {},
   "source": [
    "---"
   ]
  },
  {
   "cell_type": "markdown",
   "metadata": {},
   "source": [
    "# LightGBM\n",
    "\n",
    "- 데이터의 수가 충분히 많다면 가장 빠르게 동작함\n",
    "- 단점은 데이터 수가 적으면 성능이 현저히 낮아짐"
   ]
  },
  {
   "cell_type": "code",
   "execution_count": 32,
   "metadata": {},
   "outputs": [
    {
     "name": "stdout",
     "output_type": "stream",
     "text": [
      "Collecting lightgbm\n",
      "  Downloading lightgbm-4.4.0-py3-none-win_amd64.whl.metadata (19 kB)\n",
      "Requirement already satisfied: numpy>=1.17.0 in c:\\users\\user\\miniconda3\\envs\\ds_study\\lib\\site-packages (from lightgbm) (1.24.3)\n",
      "Requirement already satisfied: scipy in c:\\users\\user\\miniconda3\\envs\\ds_study\\lib\\site-packages (from lightgbm) (1.10.1)\n",
      "Downloading lightgbm-4.4.0-py3-none-win_amd64.whl (1.4 MB)\n",
      "   ---------------------------------------- 0.0/1.4 MB ? eta -:--:--\n",
      "   - -------------------------------------- 0.0/1.4 MB 991.0 kB/s eta 0:00:02\n",
      "   ----------- ---------------------------- 0.4/1.4 MB 5.0 MB/s eta 0:00:01\n",
      "   ------------------------ --------------- 0.9/1.4 MB 7.0 MB/s eta 0:00:01\n",
      "   ---------------------------------------  1.4/1.4 MB 8.2 MB/s eta 0:00:01\n",
      "   ---------------------------------------- 1.4/1.4 MB 7.7 MB/s eta 0:00:00\n",
      "Installing collected packages: lightgbm\n",
      "Successfully installed lightgbm-4.4.0\n"
     ]
    }
   ],
   "source": [
    "!pip install lightgbm"
   ]
  },
  {
   "cell_type": "code",
   "execution_count": 34,
   "metadata": {},
   "outputs": [
    {
     "name": "stdout",
     "output_type": "stream",
     "text": [
      "Fit time: 30.751689910888672\n"
     ]
    }
   ],
   "source": [
    "from lightgbm import LGBMClassifier\n",
    "\n",
    "le = LabelEncoder()\n",
    "\n",
    "y_train= le.fit_transform(y_train)\n",
    "y_test= le.fit_transform(y_test)\n",
    "\n",
    "evals = [(X_test.values,y_test)]\n",
    "\n",
    "start_time = time.time()\n",
    "lgbm = LGBMClassifier(n_estimators=400)\n",
    "lgbm.fit(X_train.values ,y_train, eval_set=evals)\n",
    "\n",
    "print('Fit time:',time.time() - start_time)"
   ]
  },
  {
   "cell_type": "code",
   "execution_count": 35,
   "metadata": {},
   "outputs": [
    {
     "data": {
      "text/plain": [
       "0.9375636240244316"
      ]
     },
     "execution_count": 35,
     "metadata": {},
     "output_type": "execute_result"
    }
   ],
   "source": [
    "pred = lgbm.predict(X_test.values)\n",
    "pred = le.inverse_transform(pred)\n",
    "y_test= le.inverse_transform(y_test)\n",
    "\n",
    "accuracy_score(y_test,pred)"
   ]
  },
  {
   "cell_type": "code",
   "execution_count": null,
   "metadata": {},
   "outputs": [],
   "source": []
  }
 ],
 "metadata": {
  "kernelspec": {
   "display_name": "ds_study",
   "language": "python",
   "name": "python3"
  },
  "language_info": {
   "codemirror_mode": {
    "name": "ipython",
    "version": 3
   },
   "file_extension": ".py",
   "mimetype": "text/x-python",
   "name": "python",
   "nbconvert_exporter": "python",
   "pygments_lexer": "ipython3",
   "version": "3.8.19"
  }
 },
 "nbformat": 4,
 "nbformat_minor": 2
}

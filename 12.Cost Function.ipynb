{
 "cells": [
  {
   "cell_type": "markdown",
   "metadata": {},
   "source": [
    "# Cost Function"
   ]
  },
  {
   "cell_type": "markdown",
   "metadata": {
    "vscode": {
     "languageId": "plaintext"
    }
   },
   "source": [
    "만약 데이터가 불규칙적인 경우 가장 좋은 직선을 어떻게 구하는지?"
   ]
  },
  {
   "cell_type": "markdown",
   "metadata": {
    "vscode": {
     "languageId": "plaintext"
    }
   },
   "source": [
    "cost function은 딥러닝에 많이 쓰이는데, \n",
    "회귀모델에서 편차 제곱의 평균을 구하는 함수이다.\n",
    "- 즉 cost function은 에러를 표현하는 도구이다. \n",
    "- cost function 값이 작을수록 좋은 것이다. \n",
    "- 이 값을 최소화할 수 있다면 최적의 직선을 찾을 수 있다. "
   ]
  },
  {
   "cell_type": "markdown",
   "metadata": {
    "vscode": {
     "languageId": "plaintext"
    }
   },
   "source": [
    "CF 최소값을 구하는 코드"
   ]
  },
  {
   "cell_type": "code",
   "execution_count": 3,
   "metadata": {},
   "outputs": [],
   "source": [
    "import numpy as np\n",
    "\n",
    "a = np.poly1d([1,1])\n",
    "b= np.poly1d([1,-1])"
   ]
  },
  {
   "cell_type": "code",
   "execution_count": 5,
   "metadata": {},
   "outputs": [
    {
     "data": {
      "text/plain": [
       "poly1d([1, 1])"
      ]
     },
     "execution_count": 5,
     "metadata": {},
     "output_type": "execute_result"
    }
   ],
   "source": [
    "# x + 1\n",
    "a"
   ]
  },
  {
   "cell_type": "code",
   "execution_count": 6,
   "metadata": {},
   "outputs": [
    {
     "data": {
      "text/plain": [
       "poly1d([ 1, -1])"
      ]
     },
     "execution_count": 6,
     "metadata": {},
     "output_type": "execute_result"
    }
   ],
   "source": [
    "# x - 1\n",
    "b"
   ]
  },
  {
   "cell_type": "code",
   "execution_count": 4,
   "metadata": {},
   "outputs": [
    {
     "data": {
      "text/plain": [
       "poly1d([ 1,  0, -1])"
      ]
     },
     "execution_count": 4,
     "metadata": {},
     "output_type": "execute_result"
    }
   ],
   "source": [
    "# (x + 1)(x - 1)\n",
    "a * b"
   ]
  },
  {
   "cell_type": "code",
   "execution_count": 7,
   "metadata": {},
   "outputs": [
    {
     "data": {
      "text/plain": [
       "poly1d([ 38, -94,  62])"
      ]
     },
     "execution_count": 7,
     "metadata": {},
     "output_type": "execute_result"
    }
   ],
   "source": [
    "# 실제값에서 예측값 뺀 것을 제곱한 값 넣기\n",
    "np.poly1d([2,-1])**2 + np.poly1d([3,-5])**2 + np.poly1d([5,-6])**2"
   ]
  },
  {
   "cell_type": "markdown",
   "metadata": {},
   "source": [
    "$$J(θ) = 38θ^2 - 94θ + 62$$"
   ]
  },
  {
   "cell_type": "markdown",
   "metadata": {},
   "source": [
    "그리고 최솟값 찾기"
   ]
  },
  {
   "cell_type": "markdown",
   "metadata": {},
   "source": [
    "손으로 풀면 미분하여 0 값이 나오는 x값을 구하면 된다"
   ]
  },
  {
   "cell_type": "code",
   "execution_count": 8,
   "metadata": {},
   "outputs": [
    {
     "name": "stdout",
     "output_type": "stream",
     "text": [
      "Collecting Sympy\n",
      "  Downloading sympy-1.12.1-py3-none-any.whl.metadata (12 kB)\n",
      "Collecting mpmath<1.4.0,>=1.1.0 (from Sympy)\n",
      "  Downloading mpmath-1.3.0-py3-none-any.whl.metadata (8.6 kB)\n",
      "Downloading sympy-1.12.1-py3-none-any.whl (5.7 MB)\n",
      "   ---------------------------------------- 0.0/5.7 MB ? eta -:--:--\n",
      "   - -------------------------------------- 0.3/5.7 MB 8.6 MB/s eta 0:00:01\n",
      "   ----- ---------------------------------- 0.8/5.7 MB 10.2 MB/s eta 0:00:01\n",
      "   --------- ------------------------------ 1.4/5.7 MB 11.1 MB/s eta 0:00:01\n",
      "   ------------ --------------------------- 1.8/5.7 MB 10.4 MB/s eta 0:00:01\n",
      "   ----------------- ---------------------- 2.5/5.7 MB 10.7 MB/s eta 0:00:01\n",
      "   --------------------- ------------------ 3.1/5.7 MB 10.9 MB/s eta 0:00:01\n",
      "   ------------------------ --------------- 3.6/5.7 MB 11.4 MB/s eta 0:00:01\n",
      "   ---------------------------- ----------- 4.1/5.7 MB 11.0 MB/s eta 0:00:01\n",
      "   -------------------------------- ------- 4.7/5.7 MB 10.7 MB/s eta 0:00:01\n",
      "   ------------------------------------ --- 5.2/5.7 MB 10.6 MB/s eta 0:00:01\n",
      "   ---------------------------------------  5.7/5.7 MB 11.1 MB/s eta 0:00:01\n",
      "   ---------------------------------------- 5.7/5.7 MB 10.5 MB/s eta 0:00:00\n",
      "Downloading mpmath-1.3.0-py3-none-any.whl (536 kB)\n",
      "   ---------------------------------------- 0.0/536.2 kB ? eta -:--:--\n",
      "   ------------------------------------- - 522.2/536.2 kB 10.9 MB/s eta 0:00:01\n",
      "   ---------------------------------------- 536.2/536.2 kB 8.5 MB/s eta 0:00:00\n",
      "Installing collected packages: mpmath, Sympy\n",
      "Successfully installed Sympy-1.12.1 mpmath-1.3.0\n"
     ]
    }
   ],
   "source": [
    "!pip install Sympy"
   ]
  },
  {
   "cell_type": "code",
   "execution_count": 9,
   "metadata": {},
   "outputs": [
    {
     "data": {
      "text/latex": [
       "$\\displaystyle 76 \\theta - 94$"
      ],
      "text/plain": [
       "76*theta - 94"
      ]
     },
     "execution_count": 9,
     "metadata": {},
     "output_type": "execute_result"
    }
   ],
   "source": [
    "import sympy as sym\n",
    "\n",
    "theta = sym.Symbol('theta')\n",
    "\n",
    "diff_th = sym.diff(38*theta**2 - 94*theta + 62, theta) # theta 미분하기\n",
    "diff_th\n"
   ]
  },
  {
   "cell_type": "code",
   "execution_count": 10,
   "metadata": {},
   "outputs": [
    {
     "data": {
      "text/plain": [
       "1.236842105263158"
      ]
     },
     "execution_count": 10,
     "metadata": {},
     "output_type": "execute_result"
    }
   ],
   "source": [
    "# 모델의 기울기 \n",
    "94/76"
   ]
  },
  {
   "cell_type": "markdown",
   "metadata": {},
   "source": [
    "CF 최솟값으로 구한 회귀 모델 \n",
    ">$$hθ = 1.24x$$"
   ]
  },
  {
   "cell_type": "markdown",
   "metadata": {},
   "source": [
    "---"
   ]
  },
  {
   "cell_type": "markdown",
   "metadata": {},
   "source": [
    "- 그러나 실제 데이터는 너무 복잡해서 손으로 풀기 어렵다.\n",
    "- 입력데이터는 여러개일 때가 많다\n",
    "- 속성이 여러개가 존재해서 평면상의 방정식이 아니라 다차원에서 고민해야 할 때가 많음"
   ]
  },
  {
   "cell_type": "markdown",
   "metadata": {},
   "source": [
    "그래서 CF을 구하는 방법을 다시 고민할 필요가 있다\n",
    "- Gradient Descent : 미분을 통해서 CF의 최솟값을 찾는다"
   ]
  },
  {
   "cell_type": "markdown",
   "metadata": {},
   "source": [
    "1) CF 그래프(2차방정식)에서 임의의 theta를 찍고 최소값을 찾도록\n",
    "방향을 정하는 것\n",
    "\n",
    "2) alpha는 학습률임"
   ]
  }
 ],
 "metadata": {
  "kernelspec": {
   "display_name": "ds_study",
   "language": "python",
   "name": "python3"
  },
  "language_info": {
   "codemirror_mode": {
    "name": "ipython",
    "version": 3
   },
   "file_extension": ".py",
   "mimetype": "text/x-python",
   "name": "python",
   "nbconvert_exporter": "python",
   "pygments_lexer": "ipython3",
   "version": "3.8.19"
  }
 },
 "nbformat": 4,
 "nbformat_minor": 2
}

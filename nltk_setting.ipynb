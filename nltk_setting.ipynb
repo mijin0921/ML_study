{
 "cells": [
  {
   "cell_type": "code",
   "execution_count": 1,
   "metadata": {},
   "outputs": [
    {
     "name": "stdout",
     "output_type": "stream",
     "text": [
      "hi\n"
     ]
    }
   ],
   "source": [
    "print('hi')"
   ]
  },
  {
   "cell_type": "code",
   "execution_count": 2,
   "metadata": {},
   "outputs": [
    {
     "name": "stdout",
     "output_type": "stream",
     "text": [
      "Retrieving notices: ...working... done\n"
     ]
    },
    {
     "name": "stderr",
     "output_type": "stream",
     "text": [
      "\n",
      "PackageNotInstalledError: Package is not installed in prefix.\n",
      "  prefix: C:\\Users\\user\\miniconda3\\envs\\ds_study\n",
      "  package name: conda\n",
      "\n",
      "\n"
     ]
    },
    {
     "name": "stdout",
     "output_type": "stream",
     "text": [
      "Requirement already satisfied: pip in c:\\users\\user\\miniconda3\\envs\\ds_study\\lib\\site-packages (23.3.1)\n",
      "Collecting pip\n",
      "  Downloading pip-24.1-py3-none-any.whl.metadata (3.6 kB)\n",
      "Downloading pip-24.1-py3-none-any.whl (1.8 MB)\n",
      "   ---------------------------------------- 0.0/1.8 MB ? eta -:--:--\n",
      "   ---------------------------------------- 0.0/1.8 MB ? eta -:--:--\n",
      "   --- ------------------------------------ 0.2/1.8 MB 2.5 MB/s eta 0:00:01\n",
      "   -------------- ------------------------- 0.7/1.8 MB 7.0 MB/s eta 0:00:01\n",
      "   ------------------------- -------------- 1.1/1.8 MB 8.1 MB/s eta 0:00:01\n",
      "   ----------------------------------- ---- 1.6/1.8 MB 8.7 MB/s eta 0:00:01\n",
      "   ---------------------------------------- 1.8/1.8 MB 7.7 MB/s eta 0:00:00\n"
     ]
    },
    {
     "name": "stderr",
     "output_type": "stream",
     "text": [
      "ERROR: To modify pip, please run the following command:\n",
      "C:\\Users\\user\\miniconda3\\envs\\ds_study\\python.exe -m pip install --upgrade pip\n"
     ]
    },
    {
     "name": "stdout",
     "output_type": "stream",
     "text": [
      "Collecting konlpy\n",
      "  Downloading konlpy-0.6.0-py2.py3-none-any.whl.metadata (1.9 kB)\n",
      "Collecting JPype1>=0.7.0 (from konlpy)\n",
      "  Downloading JPype1-1.5.0-cp38-cp38-win_amd64.whl.metadata (5.0 kB)\n",
      "Requirement already satisfied: lxml>=4.1.0 in c:\\users\\user\\miniconda3\\envs\\ds_study\\lib\\site-packages (from konlpy) (5.2.1)\n",
      "Requirement already satisfied: numpy>=1.6 in c:\\users\\user\\miniconda3\\envs\\ds_study\\lib\\site-packages (from konlpy) (1.24.3)\n",
      "Requirement already satisfied: packaging in c:\\users\\user\\miniconda3\\envs\\ds_study\\lib\\site-packages (from JPype1>=0.7.0->konlpy) (23.2)\n",
      "Downloading konlpy-0.6.0-py2.py3-none-any.whl (19.4 MB)\n",
      "   ---------------------------------------- 0.0/19.4 MB ? eta -:--:--\n",
      "   ---------------------------------------- 0.0/19.4 MB 1.3 MB/s eta 0:00:16\n",
      "    --------------------------------------- 0.3/19.4 MB 4.6 MB/s eta 0:00:05\n",
      "   - -------------------------------------- 0.7/19.4 MB 6.0 MB/s eta 0:00:04\n",
      "   -- ------------------------------------- 1.2/19.4 MB 6.8 MB/s eta 0:00:03\n",
      "   --- ------------------------------------ 1.7/19.4 MB 8.2 MB/s eta 0:00:03\n",
      "   ---- ----------------------------------- 2.2/19.4 MB 8.1 MB/s eta 0:00:03\n",
      "   ----- ---------------------------------- 2.7/19.4 MB 8.8 MB/s eta 0:00:02\n",
      "   ------ --------------------------------- 3.3/19.4 MB 9.1 MB/s eta 0:00:02\n",
      "   ------- -------------------------------- 3.9/19.4 MB 9.5 MB/s eta 0:00:02\n",
      "   --------- ------------------------------ 4.4/19.4 MB 9.4 MB/s eta 0:00:02\n",
      "   ---------- ----------------------------- 5.0/19.4 MB 9.6 MB/s eta 0:00:02\n",
      "   ----------- ---------------------------- 5.4/19.4 MB 9.6 MB/s eta 0:00:02\n",
      "   ------------ --------------------------- 5.9/19.4 MB 9.7 MB/s eta 0:00:02\n",
      "   ------------- -------------------------- 6.6/19.4 MB 9.8 MB/s eta 0:00:02\n",
      "   -------------- ------------------------- 7.1/19.4 MB 9.6 MB/s eta 0:00:02\n",
      "   --------------- ------------------------ 7.6/19.4 MB 9.7 MB/s eta 0:00:02\n",
      "   ---------------- ----------------------- 8.0/19.4 MB 9.7 MB/s eta 0:00:02\n",
      "   ----------------- ---------------------- 8.6/19.4 MB 9.8 MB/s eta 0:00:02\n",
      "   ------------------ --------------------- 9.1/19.4 MB 9.9 MB/s eta 0:00:02\n",
      "   ------------------- -------------------- 9.7/19.4 MB 9.8 MB/s eta 0:00:01\n",
      "   -------------------- ------------------- 10.2/19.4 MB 9.9 MB/s eta 0:00:01\n",
      "   --------------------- ------------------ 10.6/19.4 MB 10.2 MB/s eta 0:00:01\n",
      "   ---------------------- ----------------- 11.1/19.4 MB 10.2 MB/s eta 0:00:01\n",
      "   ------------------------ --------------- 11.8/19.4 MB 10.2 MB/s eta 0:00:01\n",
      "   ------------------------- -------------- 12.3/19.4 MB 10.2 MB/s eta 0:00:01\n",
      "   -------------------------- ------------- 12.8/19.4 MB 10.2 MB/s eta 0:00:01\n",
      "   --------------------------- ------------ 13.4/19.4 MB 10.2 MB/s eta 0:00:01\n",
      "   ---------------------------- ----------- 13.9/19.4 MB 10.2 MB/s eta 0:00:01\n",
      "   ----------------------------- ---------- 14.4/19.4 MB 10.1 MB/s eta 0:00:01\n",
      "   ------------------------------ --------- 14.9/19.4 MB 10.2 MB/s eta 0:00:01\n",
      "   ------------------------------- -------- 15.4/19.4 MB 10.2 MB/s eta 0:00:01\n",
      "   -------------------------------- ------- 15.9/19.4 MB 10.2 MB/s eta 0:00:01\n",
      "   --------------------------------- ------ 16.4/19.4 MB 10.2 MB/s eta 0:00:01\n",
      "   ---------------------------------- ----- 17.0/19.4 MB 10.2 MB/s eta 0:00:01\n",
      "   ------------------------------------ --- 17.5/19.4 MB 10.2 MB/s eta 0:00:01\n",
      "   ------------------------------------- -- 18.1/19.4 MB 10.4 MB/s eta 0:00:01\n",
      "   -------------------------------------- - 18.6/19.4 MB 10.4 MB/s eta 0:00:01\n",
      "   ---------------------------------------  19.1/19.4 MB 10.4 MB/s eta 0:00:01\n",
      "   ---------------------------------------  19.4/19.4 MB 10.4 MB/s eta 0:00:01\n",
      "   ---------------------------------------- 19.4/19.4 MB 9.9 MB/s eta 0:00:00\n",
      "Downloading JPype1-1.5.0-cp38-cp38-win_amd64.whl (351 kB)\n",
      "   ---------------------------------------- 0.0/351.7 kB ? eta -:--:--\n",
      "   --------------------------------------- 351.7/351.7 kB 10.7 MB/s eta 0:00:00\n",
      "Installing collected packages: JPype1, konlpy\n",
      "Successfully installed JPype1-1.5.0 konlpy-0.6.0\n"
     ]
    },
    {
     "name": "stderr",
     "output_type": "stream",
     "text": [
      "ERROR: Could not find a version that satisfies the requirement tweepy--3.10.0 (from versions: none)\n",
      "ERROR: No matching distribution found for tweepy--3.10.0\n"
     ]
    },
    {
     "name": "stdout",
     "output_type": "stream",
     "text": [
      "Channels:\n",
      " - conda-forge\n",
      " - defaults\n",
      "Platform: win-64\n",
      "Collecting package metadata (repodata.json): ...working... done\n",
      "Solving environment: ...working... failed\n"
     ]
    },
    {
     "name": "stderr",
     "output_type": "stream",
     "text": [
      "\n",
      "PackagesNotFoundError: The following packages are not available from current channels:\n",
      "\n",
      "  - jpype1--1.0.2\n",
      "\n",
      "Current channels:\n",
      "\n",
      "  - https://conda.anaconda.org/conda-forge\n",
      "  - defaults\n",
      "\n",
      "To search for alternate channels that may provide the conda package you're\n",
      "looking for, navigate to\n",
      "\n",
      "    https://anaconda.org\n",
      "\n",
      "and use the search bar at the top of the page.\n",
      "\n",
      "\n"
     ]
    },
    {
     "name": "stdout",
     "output_type": "stream",
     "text": [
      "Channels:\n",
      " - conda-forge\n",
      " - defaults\n",
      "Platform: win-64\n",
      "Collecting package metadata (repodata.json): ...working... done\n",
      "Solving environment: ...working... done\n",
      "\n",
      "## Package Plan ##\n",
      "\n",
      "  environment location: C:\\Users\\user\\miniconda3\\envs\\ds_study\n",
      "\n",
      "  added / updated specs:\n",
      "    - wordcloud\n",
      "\n",
      "\n",
      "The following packages will be downloaded:\n",
      "\n",
      "    package                    |            build\n",
      "    ---------------------------|-----------------\n",
      "    ca-certificates-2024.6.2   |       h56e8100_0         153 KB  conda-forge\n",
      "    certifi-2024.6.2           |     pyhd8ed1ab_0         157 KB  conda-forge\n",
      "    cmdstanpy-1.2.4            |     pyhd8ed1ab_0          69 KB  conda-forge\n",
      "    openssl-3.3.1              |       h2466b09_0         8.0 MB  conda-forge\n",
      "    wordcloud-1.9.3            |   py38h91455d4_1         280 KB  conda-forge\n",
      "    ------------------------------------------------------------\n",
      "                                           Total:         8.6 MB\n",
      "\n",
      "The following NEW packages will be INSTALLED:\n",
      "\n",
      "  wordcloud          conda-forge/win-64::wordcloud-1.9.3-py38h91455d4_1 \n",
      "\n",
      "The following packages will be UPDATED:\n",
      "\n",
      "  ca-certificates    pkgs/main::ca-certificates-2024.3.11-~ --> conda-forge::ca-certificates-2024.6.2-h56e8100_0 \n",
      "  cmdstanpy                              1.2.3-pyhd8ed1ab_0 --> 1.2.4-pyhd8ed1ab_0 \n",
      "  openssl                                  3.3.0-hcfcfb64_0 --> 3.3.1-h2466b09_0 \n",
      "\n",
      "The following packages will be SUPERSEDED by a higher-priority channel:\n",
      "\n",
      "  certifi            pkgs/main/win-64::certifi-2024.6.2-py~ --> conda-forge/noarch::certifi-2024.6.2-pyhd8ed1ab_0 \n",
      "\n",
      "\n",
      "\n",
      "Downloading and Extracting Packages: ...working... done\n",
      "Preparing transaction: ...working... done\n",
      "Verifying transaction: ...working... done\n",
      "Executing transaction: ...working... done\n",
      "Channels:\n",
      " - defaults\n",
      " - conda-forge\n",
      "Platform: win-64\n",
      "Collecting package metadata (repodata.json): ...working... done\n",
      "Solving environment: ...working... done\n",
      "\n",
      "## Package Plan ##\n",
      "\n",
      "  environment location: C:\\Users\\user\\miniconda3\\envs\\ds_study\n",
      "\n",
      "  added / updated specs:\n",
      "    - nltk\n",
      "\n",
      "\n",
      "The following packages will be downloaded:\n",
      "\n",
      "    package                    |            build\n",
      "    ---------------------------|-----------------\n",
      "    click-8.1.7                |   py38haa95532_0         164 KB\n",
      "    nltk-3.8.1                 |   py38haa95532_0         2.2 MB\n",
      "    regex-2023.10.3            |   py38h2bbff1b_0         327 KB\n",
      "    ------------------------------------------------------------\n",
      "                                           Total:         2.7 MB\n",
      "\n",
      "The following NEW packages will be INSTALLED:\n",
      "\n",
      "  click              pkgs/main/win-64::click-8.1.7-py38haa95532_0 \n",
      "  nltk               pkgs/main/win-64::nltk-3.8.1-py38haa95532_0 \n",
      "  regex              pkgs/main/win-64::regex-2023.10.3-py38h2bbff1b_0 \n",
      "\n",
      "The following packages will be SUPERSEDED by a higher-priority channel:\n",
      "\n",
      "  certifi            conda-forge/noarch::certifi-2024.6.2-~ --> pkgs/main/win-64::certifi-2024.6.2-py38haa95532_0 \n",
      "\n",
      "\n",
      "\n",
      "Downloading and Extracting Packages: ...working... done\n",
      "Preparing transaction: ...working... done\n",
      "Verifying transaction: ...working... done\n",
      "Executing transaction: ...working... done\n",
      "Channels:\n",
      " - defaults\n",
      " - conda-forge\n",
      "Platform: win-64\n",
      "Collecting package metadata (repodata.json): ...working... done\n",
      "Solving environment: ...working... done\n",
      "\n",
      "# All requested packages already installed.\n",
      "\n"
     ]
    }
   ],
   "source": [
    "!conda update conda\n",
    "!pip install --upgrade pip\n",
    "!pip install konlpy\n",
    "!pip install tweepy--3.10.0\n",
    "!conda install -y -c conda-forge jpype1--1.0.2\n",
    "!conda install -y -c conda-forge wordcloud\n",
    "!conda install -y nltk\n",
    "!conda install -y scikit-learn"
   ]
  },
  {
   "cell_type": "code",
   "execution_count": 3,
   "metadata": {},
   "outputs": [],
   "source": [
    "import nltk"
   ]
  },
  {
   "cell_type": "code",
   "execution_count": 4,
   "metadata": {},
   "outputs": [
    {
     "name": "stdout",
     "output_type": "stream",
     "text": [
      "showing info https://raw.githubusercontent.com/nltk/nltk_data/gh-pages/index.xml\n"
     ]
    },
    {
     "data": {
      "text/plain": [
       "True"
      ]
     },
     "execution_count": 4,
     "metadata": {},
     "output_type": "execute_result"
    }
   ],
   "source": [
    "nltk.download()"
   ]
  },
  {
   "cell_type": "code",
   "execution_count": 5,
   "metadata": {},
   "outputs": [],
   "source": [
    "#from konlpy.tag  import Okt 는 tweepy--3.10.0 버전이랑 호환이된다. 최신버전은 호환이 안됨\n",
    "# jpype1--1.0.2이랑 호환\n",
    "from konlpy.tag  import Okt"
   ]
  },
  {
   "cell_type": "code",
   "execution_count": null,
   "metadata": {},
   "outputs": [],
   "source": []
  }
 ],
 "metadata": {
  "kernelspec": {
   "display_name": "ds_study",
   "language": "python",
   "name": "python3"
  },
  "language_info": {
   "codemirror_mode": {
    "name": "ipython",
    "version": 3
   },
   "file_extension": ".py",
   "mimetype": "text/x-python",
   "name": "python",
   "nbconvert_exporter": "python",
   "pygments_lexer": "ipython3",
   "version": "3.8.19"
  }
 },
 "nbformat": 4,
 "nbformat_minor": 2
}
